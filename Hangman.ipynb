{
  "nbformat": 4,
  "nbformat_minor": 0,
  "metadata": {
    "colab": {
      "provenance": []
    },
    "kernelspec": {
      "name": "python3",
      "display_name": "Python 3"
    },
    "language_info": {
      "name": "python"
    }
  },
  "cells": [
    {
      "cell_type": "markdown",
      "source": [
        "# **ADAM ASMACA OYUNU**"
      ],
      "metadata": {
        "id": "Il-FzAlpsNLP"
      }
    },
    {
      "cell_type": "markdown",
      "source": [
        "**1.Adım:**  Kullanıcıdan kelime girişi istenir."
      ],
      "metadata": {
        "id": "wpnGKSojsXnX"
      }
    },
    {
      "cell_type": "code",
      "source": [
        "from getpass import getpass"
      ],
      "metadata": {
        "id": "SfQrPBqpum0T"
      },
      "execution_count": 2,
      "outputs": []
    },
    {
      "cell_type": "code",
      "execution_count": 14,
      "metadata": {
        "colab": {
          "base_uri": "https://localhost:8080/"
        },
        "id": "yOYnYhJWsMR6",
        "outputId": "bf91b00e-210d-486e-9915-100ad4833a9f"
      },
      "outputs": [
        {
          "name": "stdout",
          "output_type": "stream",
          "text": [
            "Kullanmak istediğiniz kelimeyi giriniz:··········\n"
          ]
        }
      ],
      "source": [
        "word = getpass(\"Kullanmak istediğiniz kelimeyi giriniz:\")"
      ]
    },
    {
      "cell_type": "markdown",
      "source": [
        "**NOT:** Kullanıcı tarafından girilen kelime 'input' komutu yerine gizlemek için 'getpass' komutu ile kullanıcıdan kelime girişi * ile gizlenerek alınmış olur."
      ],
      "metadata": {
        "id": "4vMZa-1ru2MQ"
      }
    },
    {
      "cell_type": "markdown",
      "source": [
        "**2.Adım:** Kullanıcının girdiği kelimenin basamak sayısı kadar ekrana çizgi eklenir. Bu sayede oyuncu tahmin edeceği kelimenin kaç haften oluştuğunu görebilir."
      ],
      "metadata": {
        "id": "2NHYPlKV1b_1"
      }
    },
    {
      "cell_type": "code",
      "source": [
        "guessed_word = [\"_\"] * len(word)"
      ],
      "metadata": {
        "id": "KzQx-ZfIZFiy"
      },
      "execution_count": 15,
      "outputs": []
    },
    {
      "cell_type": "code",
      "source": [
        "print(\"Word:\", guessed_word,\n",
        "\"\"\"\n",
        " _____\n",
        " |   |\n",
        "     |\n",
        "     |\n",
        "     |\n",
        "    ---\n",
        "\"\"\")"
      ],
      "metadata": {
        "colab": {
          "base_uri": "https://localhost:8080/"
        },
        "id": "ZvAHvl89s7kk",
        "outputId": "505d979e-d913-41d5-b20f-6233a7a78883"
      },
      "execution_count": 16,
      "outputs": [
        {
          "output_type": "stream",
          "name": "stdout",
          "text": [
            "Word: ['_', '_', '_', '_', '_', '_'] \n",
            " _____\n",
            " |   |\n",
            "     |\n",
            "     |\n",
            "     |\n",
            "    ---\n",
            "\n"
          ]
        }
      ]
    },
    {
      "cell_type": "markdown",
      "source": [
        "**3.Adım:** Oyuncudan kelimeyi bulabilmesi için bir harf girmesi istenir."
      ],
      "metadata": {
        "id": "S9yPn-z-2AJW"
      }
    },
    {
      "cell_type": "code",
      "source": [
        "while True:\n",
        "    character = input(\"Bir harf giriniz: \")\n",
        "\n",
        "    # Girdinin tek karakter ve bir harf olup olmadığını kontrol edilir.\n",
        "    if len(character) == 1 and character.isalpha():\n",
        "        break  # Döngüden çık\n",
        "    elif len(character) != 1:\n",
        "       print(\"Girdiğiniz karakter uzunluğu doğru değildir.\\nLütfen tekrar giriş yapınız.\")\n",
        "    else:\n",
        "        print(\"Girdiğiniz karakter bir harf değildir. \\nLütfen tekrar giriş yapınız.\")"
      ],
      "metadata": {
        "colab": {
          "base_uri": "https://localhost:8080/"
        },
        "id": "BM2JANZ31RaC",
        "outputId": "7b543a22-afa8-4a06-a1e0-2ab8fb3b7787"
      },
      "execution_count": 17,
      "outputs": [
        {
          "name": "stdout",
          "output_type": "stream",
          "text": [
            "Bir harf giriniz: 1\n",
            "Girdiğiniz karakter bir harf değildir. \n",
            "Lütfen tekrar giriş yapınız.\n",
            "Bir harf giriniz: ef\n",
            "Girdiğiniz karakter uzunluğu doğru değildir.\n",
            "Lütfen tekrar giriş yapınız.\n",
            "Bir harf giriniz: a\n"
          ]
        }
      ]
    },
    {
      "cell_type": "markdown",
      "source": [
        "**4.Adım:** Oyuncunun girdiği harfin kullanıcının girdiği kelimenin içerisinde olup olmadığı kontrol edilir."
      ],
      "metadata": {
        "id": "iMpVsMyX5row"
      }
    },
    {
      "cell_type": "code",
      "source": [
        "if character in word:\n",
        "  for index, letter in enumerate(word):\n",
        "    if letter==character:\n",
        "      guessed_word[index] = character\n",
        "      print(\" \".join(guessed_word))\n",
        "else:\n",
        "  print(guessed_word,\n",
        "  \"\"\"\n",
        " _____\n",
        " |   |\n",
        " O   |\n",
        "     |\n",
        "     |\n",
        "    ---\n",
        "    \"\"\")"
      ],
      "metadata": {
        "colab": {
          "base_uri": "https://localhost:8080/"
        },
        "id": "0oCiAMSx21xr",
        "outputId": "17e9a71a-9066-4375-8714-34f3a34efc62"
      },
      "execution_count": 19,
      "outputs": [
        {
          "output_type": "stream",
          "name": "stdout",
          "text": [
            "_ a _ a _ a\n",
            "_ a _ a _ a\n",
            "_ a _ a _ a\n"
          ]
        }
      ]
    },
    {
      "cell_type": "markdown",
      "source": [
        "**NOT:** enumerate fonksiyonu, word içinde dolaşarak her harfi (letter) ve onun konumunu (index) sağlar. Bu sayede kelimedeki her harfin pozisyonuna erişilmiş olur."
      ],
      "metadata": {
        "id": "nlv-BT5TZx24"
      }
    },
    {
      "cell_type": "markdown",
      "source": [
        "**5.Adım:** Bütün kodları bir araya getirerek oyunu sade bir kod bloğu halinde oluşturalım."
      ],
      "metadata": {
        "id": "-v0A-rY-fmaN"
      }
    },
    {
      "cell_type": "code",
      "source": [
        "#Yanlış tahminler yapıldığında çizilebilecek ağaçların bulunduğu bir liste oluşturalım.\n",
        "gallow_stages = [\n",
        "    \"\"\"\n",
        "     _____\n",
        "     |   |\n",
        "         |\n",
        "         |\n",
        "         |\n",
        "        ---\n",
        "    \"\"\",\n",
        "    \"\"\"\n",
        "     _____\n",
        "     |   |\n",
        "     O   |\n",
        "         |\n",
        "         |\n",
        "        ---\n",
        "    \"\"\",\n",
        "    \"\"\"\n",
        "     _____\n",
        "     |   |\n",
        "     O   |\n",
        "     |   |\n",
        "         |\n",
        "        ---\n",
        "    \"\"\",\n",
        "    \"\"\"\n",
        "     _____\n",
        "     |   |\n",
        "     O   |\n",
        "    /|   |\n",
        "         |\n",
        "        ---\n",
        "    \"\"\",\n",
        "    \"\"\"\n",
        "     _____\n",
        "     |   |\n",
        "     O   |\n",
        "    /|\\  |\n",
        "         |\n",
        "        ---\n",
        "    \"\"\",\n",
        "    \"\"\"\n",
        "     _____\n",
        "     |   |\n",
        "     O   |\n",
        "    /|\\  |\n",
        "    /    |\n",
        "        ---\n",
        "    \"\"\",\n",
        "    \"\"\"\n",
        "     _____\n",
        "     |   |\n",
        "     O   |\n",
        "    /|\\  |\n",
        "    / \\  |\n",
        "        ---\n",
        "    \"\"\",\n",
        "]\n",
        "\n",
        "# Kullanıcıdan kelime girişi istenir.\n",
        "word = getpass(\"Kullanmak istediğiniz kelimeyi giriniz: \").lower()\n",
        "guessed_word = [\"_\"] * len(word)\n",
        "\n",
        "# Oyuncunun tahmin sayısı hesaplanır.\n",
        "wrong_guesses = 0\n",
        "max_wrong_guesses = len(gallow_stages) - 1\n",
        "\n",
        "# Oyuncunun her tahmini sonrasında yanlış tahmin sayısına göre güncellenerek çizilecek ağacı ve kelimeyi veren bir fonksiyon tanımlanır.\n",
        "def display_game():\n",
        "    \"\"\"Oyunun güncel durumunu gösterir\"\"\"\n",
        "    print(\"\\nWord:\", \" \".join(guessed_word))\n",
        "    print(gallow_stages[wrong_guesses])\n",
        "\n",
        "\n",
        "\n",
        "while True:\n",
        "    display_game()\n",
        "    character = input(\"Bir harf giriniz: \").lower()\n",
        "\n",
        "    # Oyuncunun tek karakter girip girmediği ve girilen karakterin harf olup olmadığı kontrol edilir.\n",
        "    if len(character) == 1 and character.isalpha():\n",
        "        if character in word:\n",
        "            for index, letter in enumerate(word):\n",
        "                if letter == character:\n",
        "                    guessed_word[index] = character\n",
        "        else:\n",
        "            wrong_guesses += 1\n",
        "            print(f\"Yanlış tahmin! {max_wrong_guesses - wrong_guesses} hakkınız kaldı.\")\n",
        "\n",
        "        # Oyunun bitiş durumları:\n",
        "        if \"_\" not in guessed_word:\n",
        "            display_game()\n",
        "            print(\"Tebrikler, kelimeyi doğru tahmin ettiniz!\")\n",
        "            break\n",
        "        elif wrong_guesses == max_wrong_guesses:\n",
        "            display_game()\n",
        "            print(\"Maalesef tüm haklarınızı kaybettiniz. \\nKelime:\", word)\n",
        "            break\n",
        "    elif len(character) != 1:\n",
        "       print(\"Girdiğiniz karakter uzunluğu doğru değildir.\\nLütfen tekrar giriş yapınız.\")\n",
        "    else:\n",
        "        print(\"Girdiğiniz karakter bir harf değildir. \\nLütfen tekrar giriş yapınız.\")"
      ],
      "metadata": {
        "colab": {
          "base_uri": "https://localhost:8080/"
        },
        "id": "Zyk_Y4UQg-9j",
        "outputId": "4ce7cc91-3fd7-4b4d-88e1-761a2dc1009d"
      },
      "execution_count": 20,
      "outputs": [
        {
          "output_type": "stream",
          "name": "stdout",
          "text": [
            "Kullanmak istediğiniz kelimeyi giriniz: ··········\n",
            "\n",
            "Word: _ _ _ _ _ _\n",
            "\n",
            "     _____\n",
            "     |   |\n",
            "         |\n",
            "         |\n",
            "         |\n",
            "        ---\n",
            "    \n",
            "Bir harf giriniz: 1\n",
            "Girdiğiniz karakter bir harf değildir. \n",
            "Lütfen tekrar giriş yapınız.\n",
            "\n",
            "Word: _ _ _ _ _ _\n",
            "\n",
            "     _____\n",
            "     |   |\n",
            "         |\n",
            "         |\n",
            "         |\n",
            "        ---\n",
            "    \n",
            "Bir harf giriniz: ef\n",
            "Girdiğiniz karakter uzunluğu doğru değildir.\n",
            "Lütfen tekrar giriş yapınız.\n",
            "\n",
            "Word: _ _ _ _ _ _\n",
            "\n",
            "     _____\n",
            "     |   |\n",
            "         |\n",
            "         |\n",
            "         |\n",
            "        ---\n",
            "    \n",
            "Bir harf giriniz: a\n",
            "\n",
            "Word: _ a _ a _ a\n",
            "\n",
            "     _____\n",
            "     |   |\n",
            "         |\n",
            "         |\n",
            "         |\n",
            "        ---\n",
            "    \n",
            "Bir harf giriniz: k\n",
            "Yanlış tahmin! 5 hakkınız kaldı.\n",
            "\n",
            "Word: _ a _ a _ a\n",
            "\n",
            "     _____\n",
            "     |   |\n",
            "     O   |\n",
            "         |\n",
            "         |\n",
            "        ---\n",
            "    \n",
            "Bir harf giriniz: z\n",
            "\n",
            "Word: _ a _ a z a\n",
            "\n",
            "     _____\n",
            "     |   |\n",
            "     O   |\n",
            "         |\n",
            "         |\n",
            "        ---\n",
            "    \n",
            "Bir harf giriniz: j\n",
            "Yanlış tahmin! 4 hakkınız kaldı.\n",
            "\n",
            "Word: _ a _ a z a\n",
            "\n",
            "     _____\n",
            "     |   |\n",
            "     O   |\n",
            "     |   |\n",
            "         |\n",
            "        ---\n",
            "    \n",
            "Bir harf giriniz: ö\n",
            "Yanlış tahmin! 3 hakkınız kaldı.\n",
            "\n",
            "Word: _ a _ a z a\n",
            "\n",
            "     _____\n",
            "     |   |\n",
            "     O   |\n",
            "    /|   |\n",
            "         |\n",
            "        ---\n",
            "    \n",
            "Bir harf giriniz: e\n",
            "Yanlış tahmin! 2 hakkınız kaldı.\n",
            "\n",
            "Word: _ a _ a z a\n",
            "\n",
            "     _____\n",
            "     |   |\n",
            "     O   |\n",
            "    /|\\  |\n",
            "         |\n",
            "        ---\n",
            "    \n",
            "Bir harf giriniz: p\n",
            "Yanlış tahmin! 1 hakkınız kaldı.\n",
            "\n",
            "Word: _ a _ a z a\n",
            "\n",
            "     _____\n",
            "     |   |\n",
            "     O   |\n",
            "    /|\\  |\n",
            "    /    |\n",
            "        ---\n",
            "    \n",
            "Bir harf giriniz: m\n",
            "\n",
            "Word: m a _ a z a\n",
            "\n",
            "     _____\n",
            "     |   |\n",
            "     O   |\n",
            "    /|\\  |\n",
            "    /    |\n",
            "        ---\n",
            "    \n",
            "Bir harf giriniz: y\n",
            "Yanlış tahmin! 0 hakkınız kaldı.\n",
            "\n",
            "Word: m a _ a z a\n",
            "\n",
            "     _____\n",
            "     |   |\n",
            "     O   |\n",
            "    /|\\  |\n",
            "    / \\  |\n",
            "        ---\n",
            "    \n",
            "Maalesef tüm haklarınızı kaybettiniz. \n",
            "Kelime: mağaza\n"
          ]
        }
      ]
    }
  ]
}